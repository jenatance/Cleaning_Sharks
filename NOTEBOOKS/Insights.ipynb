{
 "cells": [
  {
   "cell_type": "markdown",
   "id": "e40d3f9f",
   "metadata": {},
   "source": [
    "# INSIGHTS SHARK'S ATTACKS ON MEN SINCE 2000"
   ]
  },
  {
   "cell_type": "code",
   "execution_count": 1,
   "id": "ee42fdac",
   "metadata": {},
   "outputs": [],
   "source": [
    "import pandas as pd\n",
    "pd.set_option('display.max_columns', None)\n",
    "\n",
    "import numpy as np\n",
    "\n",
    "import warnings\n",
    "warnings.filterwarnings('ignore')\n",
    "\n",
    "import pylab as plt\n",
    "import seaborn as sns\n",
    "\n",
    "%matplotlib inline"
   ]
  },
  {
   "cell_type": "code",
   "execution_count": 3,
   "id": "b2eab446",
   "metadata": {},
   "outputs": [],
   "source": [
    "sharksClean = pd.read_csv('../DATA/sharks_clean.csv', encoding = \"ISO-8859-1\")"
   ]
  },
  {
   "cell_type": "code",
   "execution_count": 4,
   "id": "7cd318b4",
   "metadata": {
    "scrolled": true
   },
   "outputs": [
    {
     "data": {
      "text/html": [
       "<div>\n",
       "<style scoped>\n",
       "    .dataframe tbody tr th:only-of-type {\n",
       "        vertical-align: middle;\n",
       "    }\n",
       "\n",
       "    .dataframe tbody tr th {\n",
       "        vertical-align: top;\n",
       "    }\n",
       "\n",
       "    .dataframe thead th {\n",
       "        text-align: right;\n",
       "    }\n",
       "</style>\n",
       "<table border=\"1\" class=\"dataframe\">\n",
       "  <thead>\n",
       "    <tr style=\"text-align: right;\">\n",
       "      <th></th>\n",
       "      <th>caseNumber</th>\n",
       "      <th>date</th>\n",
       "      <th>year</th>\n",
       "      <th>type</th>\n",
       "      <th>country</th>\n",
       "      <th>area</th>\n",
       "      <th>location</th>\n",
       "      <th>activity</th>\n",
       "      <th>name</th>\n",
       "      <th>sex</th>\n",
       "      <th>age</th>\n",
       "      <th>injury</th>\n",
       "      <th>fatal(y/n)</th>\n",
       "      <th>time</th>\n",
       "      <th>species</th>\n",
       "      <th>investigatorOrSource</th>\n",
       "      <th>pdf</th>\n",
       "      <th>hrefFormula</th>\n",
       "      <th>href</th>\n",
       "      <th>caseNumber1</th>\n",
       "      <th>caseNumber2</th>\n",
       "      <th>originalOrder</th>\n",
       "      <th>originalIndex</th>\n",
       "      <th>hemisphere</th>\n",
       "    </tr>\n",
       "  </thead>\n",
       "  <tbody>\n",
       "    <tr>\n",
       "      <th>0</th>\n",
       "      <td>2018-06-09</td>\n",
       "      <td>2018-06-09</td>\n",
       "      <td>2018</td>\n",
       "      <td>Invalid</td>\n",
       "      <td>usa</td>\n",
       "      <td>Hawaii</td>\n",
       "      <td>Habush, Oahu</td>\n",
       "      <td>Surfing</td>\n",
       "      <td>John Denges</td>\n",
       "      <td>M</td>\n",
       "      <td>48</td>\n",
       "      <td>Injury to left lower leg from surfboard skeg</td>\n",
       "      <td>False</td>\n",
       "      <td>7.45</td>\n",
       "      <td>Unknown</td>\n",
       "      <td>K.McMurray, TrackingSharks.com</td>\n",
       "      <td>2018.06.09-Denges.pdf</td>\n",
       "      <td>http://sharkattackfile.net/spreadsheets/pdf_di...</td>\n",
       "      <td>http://sharkattackfile.net/spreadsheets/pdf_di...</td>\n",
       "      <td>2018-06-09</td>\n",
       "      <td>2018-06-09</td>\n",
       "      <td>6301.0</td>\n",
       "      <td>2</td>\n",
       "      <td>North</td>\n",
       "    </tr>\n",
       "    <tr>\n",
       "      <th>1</th>\n",
       "      <td>2018-06-08</td>\n",
       "      <td>2018-06-08</td>\n",
       "      <td>2018</td>\n",
       "      <td>Unprovoked</td>\n",
       "      <td>australia</td>\n",
       "      <td>New South Wales</td>\n",
       "      <td>Arrawarra Headland</td>\n",
       "      <td>Surfing</td>\n",
       "      <td>male</td>\n",
       "      <td>M</td>\n",
       "      <td>-1</td>\n",
       "      <td>Minor injury to lower leg</td>\n",
       "      <td>False</td>\n",
       "      <td>-1.00</td>\n",
       "      <td>Unknown</td>\n",
       "      <td>B. Myatt, GSAF</td>\n",
       "      <td>2018.06.08-Arrawarra.pdf</td>\n",
       "      <td>http://sharkattackfile.net/spreadsheets/pdf_di...</td>\n",
       "      <td>http://sharkattackfile.net/spreadsheets/pdf_di...</td>\n",
       "      <td>2018-06-08</td>\n",
       "      <td>2018-06-08</td>\n",
       "      <td>6300.0</td>\n",
       "      <td>3</td>\n",
       "      <td>South</td>\n",
       "    </tr>\n",
       "    <tr>\n",
       "      <th>2</th>\n",
       "      <td>2018-06-04</td>\n",
       "      <td>2018-06-04</td>\n",
       "      <td>2018</td>\n",
       "      <td>Provoked</td>\n",
       "      <td>mexico</td>\n",
       "      <td>Colima</td>\n",
       "      <td>La Ticla</td>\n",
       "      <td>Free diving</td>\n",
       "      <td>Gustavo Ramos</td>\n",
       "      <td>M</td>\n",
       "      <td>-1</td>\n",
       "      <td>Lacerations to leg &amp; hand shark PROVOKED INCIDENT</td>\n",
       "      <td>False</td>\n",
       "      <td>-1.00</td>\n",
       "      <td>Tiger</td>\n",
       "      <td>A .Kipper</td>\n",
       "      <td>2018.06.04-Ramos.pdf</td>\n",
       "      <td>http://sharkattackfile.net/spreadsheets/pdf_di...</td>\n",
       "      <td>http://sharkattackfile.net/spreadsheets/pdf_di...</td>\n",
       "      <td>2018-06-04</td>\n",
       "      <td>2018-06-04</td>\n",
       "      <td>6299.0</td>\n",
       "      <td>4</td>\n",
       "      <td>North</td>\n",
       "    </tr>\n",
       "    <tr>\n",
       "      <th>3</th>\n",
       "      <td>2018-06-03</td>\n",
       "      <td>2018-06-03</td>\n",
       "      <td>2018</td>\n",
       "      <td>Unprovoked</td>\n",
       "      <td>australia</td>\n",
       "      <td>New South Wales</td>\n",
       "      <td>Flat Rock, Ballina</td>\n",
       "      <td>Kite surfing</td>\n",
       "      <td>Chris Â</td>\n",
       "      <td>M</td>\n",
       "      <td>-1</td>\n",
       "      <td>No injury, board bitten</td>\n",
       "      <td>False</td>\n",
       "      <td>-1.00</td>\n",
       "      <td>Unknown</td>\n",
       "      <td>Daily Telegraph, 6/4/2018</td>\n",
       "      <td>2018.06.03.b-FlatRock.pdf</td>\n",
       "      <td>http://sharkattackfile.net/spreadsheets/pdf_di...</td>\n",
       "      <td>http://sharkattackfile.net/spreadsheets/pdf_di...</td>\n",
       "      <td>2018-06-03</td>\n",
       "      <td>2018-06-03</td>\n",
       "      <td>6298.0</td>\n",
       "      <td>5</td>\n",
       "      <td>South</td>\n",
       "    </tr>\n",
       "    <tr>\n",
       "      <th>4</th>\n",
       "      <td>2018-06-03</td>\n",
       "      <td>2018-06-03</td>\n",
       "      <td>2018</td>\n",
       "      <td>Unprovoked</td>\n",
       "      <td>brazil</td>\n",
       "      <td>Pernambuco</td>\n",
       "      <td>Piedade Beach, Recife</td>\n",
       "      <td>Swimming</td>\n",
       "      <td>Jose Ernesto da Silva</td>\n",
       "      <td>M</td>\n",
       "      <td>18</td>\n",
       "      <td>FATAL</td>\n",
       "      <td>True</td>\n",
       "      <td>17.00</td>\n",
       "      <td>Tiger</td>\n",
       "      <td>Diario de Pernambuco, 6/4/2018</td>\n",
       "      <td>2018.06.03.a-daSilva.pdf</td>\n",
       "      <td>http://sharkattackfile.net/spreadsheets/pdf_di...</td>\n",
       "      <td>http://sharkattackfile.net/spreadsheets/pdf_di...</td>\n",
       "      <td>2018-06-03</td>\n",
       "      <td>2018-06-03</td>\n",
       "      <td>6297.0</td>\n",
       "      <td>6</td>\n",
       "      <td>South</td>\n",
       "    </tr>\n",
       "  </tbody>\n",
       "</table>\n",
       "</div>"
      ],
      "text/plain": [
       "   caseNumber        date  year        type    country             area  \\\n",
       "0  2018-06-09  2018-06-09  2018     Invalid        usa           Hawaii   \n",
       "1  2018-06-08  2018-06-08  2018  Unprovoked  australia  New South Wales   \n",
       "2  2018-06-04  2018-06-04  2018    Provoked     mexico           Colima   \n",
       "3  2018-06-03  2018-06-03  2018  Unprovoked  australia  New South Wales   \n",
       "4  2018-06-03  2018-06-03  2018  Unprovoked     brazil       Pernambuco   \n",
       "\n",
       "                location      activity                    name sex  age  \\\n",
       "0           Habush, Oahu       Surfing             John Denges   M   48   \n",
       "1     Arrawarra Headland       Surfing                    male   M   -1   \n",
       "2               La Ticla   Free diving          Gustavo Ramos    M   -1   \n",
       "3     Flat Rock, Ballina  Kite surfing                Chris Â\n",
       "   M   -1   \n",
       "4  Piedade Beach, Recife      Swimming  Jose Ernesto da Silva    M   18   \n",
       "\n",
       "                                              injury  fatal(y/n)   time  \\\n",
       "0       Injury to left lower leg from surfboard skeg       False   7.45   \n",
       "1                          Minor injury to lower leg       False  -1.00   \n",
       "2  Lacerations to leg & hand shark PROVOKED INCIDENT       False  -1.00   \n",
       "3                            No injury, board bitten       False  -1.00   \n",
       "4                                              FATAL        True  17.00   \n",
       "\n",
       "   species            investigatorOrSource                        pdf  \\\n",
       "0  Unknown  K.McMurray, TrackingSharks.com      2018.06.09-Denges.pdf   \n",
       "1  Unknown                  B. Myatt, GSAF   2018.06.08-Arrawarra.pdf   \n",
       "2    Tiger                       A .Kipper       2018.06.04-Ramos.pdf   \n",
       "3  Unknown       Daily Telegraph, 6/4/2018  2018.06.03.b-FlatRock.pdf   \n",
       "4    Tiger  Diario de Pernambuco, 6/4/2018   2018.06.03.a-daSilva.pdf   \n",
       "\n",
       "                                         hrefFormula  \\\n",
       "0  http://sharkattackfile.net/spreadsheets/pdf_di...   \n",
       "1  http://sharkattackfile.net/spreadsheets/pdf_di...   \n",
       "2  http://sharkattackfile.net/spreadsheets/pdf_di...   \n",
       "3  http://sharkattackfile.net/spreadsheets/pdf_di...   \n",
       "4  http://sharkattackfile.net/spreadsheets/pdf_di...   \n",
       "\n",
       "                                                href caseNumber1 caseNumber2  \\\n",
       "0  http://sharkattackfile.net/spreadsheets/pdf_di...  2018-06-09  2018-06-09   \n",
       "1  http://sharkattackfile.net/spreadsheets/pdf_di...  2018-06-08  2018-06-08   \n",
       "2  http://sharkattackfile.net/spreadsheets/pdf_di...  2018-06-04  2018-06-04   \n",
       "3  http://sharkattackfile.net/spreadsheets/pdf_di...  2018-06-03  2018-06-03   \n",
       "4  http://sharkattackfile.net/spreadsheets/pdf_di...  2018-06-03  2018-06-03   \n",
       "\n",
       "   originalOrder  originalIndex hemisphere  \n",
       "0         6301.0              2      North  \n",
       "1         6300.0              3      South  \n",
       "2         6299.0              4      North  \n",
       "3         6298.0              5      South  \n",
       "4         6297.0              6      South  "
      ]
     },
     "execution_count": 4,
     "metadata": {},
     "output_type": "execute_result"
    }
   ],
   "source": [
    "sharksClean.head()"
   ]
  },
  {
   "cell_type": "markdown",
   "id": "c3023334",
   "metadata": {},
   "source": [
    "## Número de ataques por año"
   ]
  },
  {
   "cell_type": "code",
   "execution_count": 36,
   "id": "ea9eb5fc",
   "metadata": {
    "scrolled": false
   },
   "outputs": [
    {
     "data": {
      "image/png": "[encoded data removed]",
      "text/plain": [
       "<Figure size 1080x360 with 1 Axes>"
      ]
     },
     "metadata": {
      "needs_background": "light"
     },
     "output_type": "display_data"
    }
   ],
   "source": [
    "plt.figure(figsize = (15,5))\n",
    "sns.histplot(data = sharksClean, x = 'year')\n",
    "plt.show()"
   ]
  },
  {
   "cell_type": "markdown",
   "id": "e9172bca",
   "metadata": {},
   "source": [
    "## Número de ataques por año y país"
   ]
  },
  {
   "cell_type": "code",
   "execution_count": 35,
   "id": "d54f726f",
   "metadata": {},
   "outputs": [
    {
     "data": {
      "image/png": "[encoded data removed]",
      "text/plain": [
       "<Figure size 1080x360 with 1 Axes>"
      ]
     },
     "metadata": {
      "needs_background": "light"
     },
     "output_type": "display_data"
    }
   ],
   "source": [
    "plt.figure(figsize = (15,5))\n",
    "sns.histplot(data = sharksClean, y = 'year', x = 'country')\n",
    "plt.show()"
   ]
  },
  {
   "cell_type": "code",
   "execution_count": 37,
   "id": "ca409958",
   "metadata": {},
   "outputs": [
    {
     "data": {
      "image/png": "[encoded data removed]",
      "text/plain": [
       "<Figure size 1080x360 with 1 Axes>"
      ]
     },
     "metadata": {
      "needs_background": "light"
     },
     "output_type": "display_data"
    }
   ],
   "source": [
    "plt.figure(figsize = (15,5))\n",
    "sns.histplot(data = sharksClean, y = 'year', x = 'hemisphere')\n",
    "plt.show()"
   ]
  },
  {
   "cell_type": "markdown",
   "id": "f0e414c6",
   "metadata": {},
   "source": [
    "## Número de ataques por hemisferio"
   ]
  },
  {
   "cell_type": "code",
   "execution_count": 9,
   "id": "df114d92",
   "metadata": {},
   "outputs": [],
   "source": [
    "def histogram(column):\n",
    "    plt.figure(figsize = (10,10))\n",
    "    grafico = sns.countplot(column,  data = sharksClean, order = sharksClean[column].value_counts().index)\n",
    "    grafico.tick_params(axis='x', rotation = 90)"
   ]
  },
  {
   "cell_type": "code",
   "execution_count": 10,
   "id": "a967986f",
   "metadata": {
    "scrolled": true
   },
   "outputs": [
    {
     "data": {
      "image/png": "[encoded data removed]",
      "text/plain": [
       "<Figure size 720x720 with 1 Axes>"
      ]
     },
     "metadata": {
      "needs_background": "light"
     },
     "output_type": "display_data"
    }
   ],
   "source": [
    "histogram('hemisphere')"
   ]
  },
  {
   "cell_type": "markdown",
   "id": "d5105a64",
   "metadata": {},
   "source": [
    "## Número de ataques por país"
   ]
  },
  {
   "cell_type": "code",
   "execution_count": 11,
   "id": "c2de5ff6",
   "metadata": {},
   "outputs": [],
   "source": [
    "def group(column, threshold):   \n",
    "    table = sharksClean[column].value_counts()\n",
    "    grouped_columns = [i for i in table.index if table[i] < threshold]\n",
    "    for n in grouped_columns:\n",
    "        sharksClean.loc[sharksClean[column] == n, column] = 'Other'\n",
    "    print(sharksClean[column].value_counts())"
   ]
  },
  {
   "cell_type": "code",
   "execution_count": 13,
   "id": "1060cbaa",
   "metadata": {},
   "outputs": [
    {
     "data": {
      "image/png": "[encoded data removed]",
      "text/plain": [
       "<Figure size 720x720 with 1 Axes>"
      ]
     },
     "metadata": {
      "needs_background": "light"
     },
     "output_type": "display_data"
    }
   ],
   "source": [
    "histogram('country')"
   ]
  },
  {
   "cell_type": "markdown",
   "id": "c1024c16",
   "metadata": {},
   "source": [
    "## Número de ataques por edad"
   ]
  },
  {
   "cell_type": "markdown",
   "id": "c26a8b83",
   "metadata": {},
   "source": [
    "#### Valores en -1 para los desconocidos"
   ]
  },
  {
   "cell_type": "code",
   "execution_count": 32,
   "id": "e7901c84",
   "metadata": {},
   "outputs": [
    {
     "data": {
      "image/png": "[encoded data removed]",
      "text/plain": [
       "<Figure size 1080x360 with 1 Axes>"
      ]
     },
     "metadata": {
      "needs_background": "light"
     },
     "output_type": "display_data"
    }
   ],
   "source": [
    "plt.figure(figsize = (15,5))\n",
    "sns.histplot(data = sharksClean, x = 'age')\n",
    "plt.show()"
   ]
  },
  {
   "cell_type": "markdown",
   "id": "1c9465ba",
   "metadata": {},
   "source": [
    "## Número de ataques mortales"
   ]
  },
  {
   "cell_type": "code",
   "execution_count": 29,
   "id": "dcff1c4b",
   "metadata": {},
   "outputs": [
    {
     "data": {
      "text/plain": [
       "<AxesSubplot:xlabel='fatal(y/n)'>"
      ]
     },
     "execution_count": 29,
     "metadata": {},
     "output_type": "execute_result"
    },
    {
     "data": {
      "image/png": "[encoded data removed]",
      "text/plain": [
       "<Figure size 432x288 with 1 Axes>"
      ]
     },
     "metadata": {
      "needs_background": "light"
     },
     "output_type": "display_data"
    }
   ],
   "source": [
    "sharksClean.groupby('fatal(y/n)').count()[\"originalIndex\"].plot(kind = 'bar')"
   ]
  },
  {
   "cell_type": "code",
   "execution_count": null,
   "id": "2b01da50",
   "metadata": {},
   "outputs": [],
   "source": []
  }
 ],
 "metadata": {
  "kernelspec": {
   "display_name": "Python 3 (ipykernel)",
   "language": "python",
   "name": "python3"
  },
  "language_info": {
   "codemirror_mode": {
    "name": "ipython",
    "version": 3
   },
   "file_extension": ".py",
   "mimetype": "text/x-python",
   "name": "python",
   "nbconvert_exporter": "python",
   "pygments_lexer": "ipython3",
   "version": "3.9.7"
  }
 },
 "nbformat": 4,
 "nbformat_minor": 5
}
